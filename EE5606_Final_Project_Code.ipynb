{
  "nbformat": 4,
  "nbformat_minor": 0,
  "metadata": {
    "colab": {
      "provenance": []
    },
    "kernelspec": {
      "name": "python3",
      "display_name": "Python 3"
    },
    "language_info": {
      "name": "python"
    }
  },
  "cells": [
    {
      "cell_type": "markdown",
      "source": [
        "**EE5606 Final Project Code**\n",
        "\n",
        "***Heterogeneous 2-facility location games with Minimum Distance Requirement***\n",
        "\n",
        "ANDRA SIVA SAI TEJA - AI22MTECH11001\n",
        "\n",
        "HIMANSHU - AI22MTECH12008\n"
      ],
      "metadata": {
        "id": "KdftnQuvXBJg"
      }
    },
    {
      "cell_type": "code",
      "execution_count": null,
      "metadata": {
        "id": "B5k3x65Tosyz"
      },
      "outputs": [],
      "source": [
        "import numpy as np\n",
        "import cvxpy as cp \n"
      ]
    },
    {
      "cell_type": "code",
      "source": [
        "#Implementing the convex optimizing problem with n-agents and 2-facilities\n",
        "\n",
        "n = 10 #no of agents/customers\n",
        "\n",
        "x = np.random.rand(n) #locations of agents , randomly sampled from unif[0,1]\n",
        "x = np.sort(x) #without losing generality we put agents locations in ascending order\n",
        "y = cp.Variable(2) #locations of 2-facilities\n",
        "d = 0.2 #minimum distance between facilities\n"
      ],
      "metadata": {
        "id": "SS1M2IIFpEi7"
      },
      "execution_count": null,
      "outputs": []
    },
    {
      "cell_type": "code",
      "source": [
        "constraints = [y>=0,y<=1,y[1]>=y[0],y[1]-y[0]>=d] \n",
        "#the constraints are y1,y2 lie in [0,1] and y2-y1 is minimum of d and y2>=y1\n",
        "\n",
        "\n",
        "objective = cp.Minimize(cp.sum(cp.abs(x-y[0]))+cp.sum(cp.abs(x-y[1])))\n",
        "#Minimizing the Social Cost(sum of costs of all agents)"
      ],
      "metadata": {
        "id": "3W9amH2dYlg3"
      },
      "execution_count": null,
      "outputs": []
    },
    {
      "cell_type": "code",
      "source": [
        "#Solving the problem\n",
        "problem = cp.Problem(objective, constraints)\n",
        "solution = problem.solve()\n",
        "print(\"agent locations(in ascending order) =\",list(np.round(x,2)))\n",
        "print(\"minimized social cost =\",solution)\n",
        "print(\"optimal facility location = [y1_opt y2_opt] =\",y.value)"
      ],
      "metadata": {
        "id": "LzD8p3aruBOj",
        "colab": {
          "base_uri": "https://localhost:8080/"
        },
        "outputId": "38989198-3b2e-467a-c60c-52d43d96edea"
      },
      "execution_count": null,
      "outputs": [
        {
          "output_type": "stream",
          "name": "stdout",
          "text": [
            "agent locations(in ascending order) = [0.06, 0.27, 0.62, 0.7, 0.7, 0.74, 0.76, 0.84, 0.95, 0.96]\n",
            "minimized social cost = 4.40951277995508\n",
            "optimal facility location = [y1_opt y2_opt] = [0.63251613 0.83251613]\n"
          ]
        }
      ]
    },
    {
      "cell_type": "code",
      "source": [
        "#Calculating the range in which y1_opt would lie using the theoretical results(Result 4 from the submitted report)\n",
        "x_tilde = np.hstack((x-d,x))\n",
        "x_tilde_sort = np.sort(x_tilde)\n",
        "print(\"y1_opt should lie in [\",max(0,x_tilde_sort[n-1]),\",\",min(1-d,x_tilde_sort[n]),\"]\")"
      ],
      "metadata": {
        "colab": {
          "base_uri": "https://localhost:8080/"
        },
        "id": "jjMb0r4xp2Fb",
        "outputId": "88231c58-2fed-4cd6-85be-0ac673c8f5fa"
      },
      "execution_count": null,
      "outputs": [
        {
          "output_type": "stream",
          "name": "stdout",
          "text": [
            "y1_opt should lie in [ 0.6249481663753581 , 0.6413918822940208 ]\n"
          ]
        }
      ]
    },
    {
      "cell_type": "code",
      "source": [
        "#Checking if the y1_opt calculated using cvxpy lies in the interval calculated theoretically\n",
        "\n",
        "if(y.value[0]>=max(0,x_tilde_sort[n-1]) and y.value[0]<=min(1-d,x_tilde_sort[n])):\n",
        "  print(\"y1_opt lies in the range\")\n",
        "else:\n",
        "  print(\"y1_opt doesn't lie in the range\")"
      ],
      "metadata": {
        "colab": {
          "base_uri": "https://localhost:8080/"
        },
        "id": "FUOOjkroZlg0",
        "outputId": "18a862d5-92c4-40b7-ee9e-51be0bc91838"
      },
      "execution_count": null,
      "outputs": [
        {
          "output_type": "stream",
          "name": "stdout",
          "text": [
            "y1_opt lies in the range\n"
          ]
        }
      ]
    },
    {
      "cell_type": "code",
      "source": [
        "#Checking if Result2(from report) holds(that is y2_opt - y1_opt is equal to d)\n",
        "print(\"y2_opt - y1_opt =\" ,y.value[1]-y.value[0])\n",
        "print(\"d =\",d)\n",
        "\n",
        "#We can oberve that y2_opt-y1_opt is approximately d. So, the Result2 holds"
      ],
      "metadata": {
        "colab": {
          "base_uri": "https://localhost:8080/"
        },
        "id": "x_SEz1bQak6_",
        "outputId": "697a84ed-9fab-4dde-9d58-fb5e91150baf"
      },
      "execution_count": null,
      "outputs": [
        {
          "output_type": "stream",
          "name": "stdout",
          "text": [
            "y2_opt - y1_opt = 0.1999999999987554\n",
            "d = 0.2\n"
          ]
        }
      ]
    }
  ]
}